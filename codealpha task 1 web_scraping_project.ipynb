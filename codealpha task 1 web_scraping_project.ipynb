{
 "cells": [
  {
   "cell_type": "markdown",
   "id": "8d5925b1",
   "metadata": {},
   "source": [
    "# Data Analytics Project – Task 1: Web Scraping\n",
    "\n",
    "### **Objective**\n",
    "To scrape data from a public website using Python libraries such as **BeautifulSoup** and create a custom dataset that can be used for data analytics tasks."
   ]
  },
  {
   "cell_type": "markdown",
   "id": "05448f2a",
   "metadata": {},
   "source": [
    "## **Step 1: Import Libraries**"
   ]
  },
  {
   "cell_type": "code",
   "execution_count": 1,
   "id": "3f2bb985",
   "metadata": {},
   "outputs": [],
   "source": [
    "\n",
    "import requests\n",
    "from bs4 import BeautifulSoup\n",
    "import pandas as pd\n"
   ]
  },
  {
   "cell_type": "markdown",
   "id": "b2c83aa8",
   "metadata": {},
   "source": [
    "## **Step 2: Choose a Website for Scraping**\n",
    "We’ll scrape **quotes from http://quotes.toscrape.com** (a free website designed for web scraping practice)."
   ]
  },
  {
   "cell_type": "markdown",
   "id": "87ce4c00",
   "metadata": {},
   "source": [
    "## **Step 3: Fetch Web Page**"
   ]
  },
  {
   "cell_type": "code",
   "execution_count": 2,
   "id": "ba1464db",
   "metadata": {},
   "outputs": [
    {
     "name": "stdout",
     "output_type": "stream",
     "text": [
      "Quotes to Scrape\n"
     ]
    }
   ],
   "source": [
    "\n",
    "url = \"http://quotes.toscrape.com/page/1/\"\n",
    "response = requests.get(url)\n",
    "soup = BeautifulSoup(response.text, \"html.parser\")\n",
    "print(soup.title.string)\n"
   ]
  },
  {
   "cell_type": "markdown",
   "id": "d4c738c4",
   "metadata": {},
   "source": [
    "## **Step 4: Extract Data**\n",
    "We’ll extract **Quotes**, **Authors**, and **Tags**."
   ]
  },
  {
   "cell_type": "code",
   "execution_count": 3,
   "id": "7030adf7",
   "metadata": {},
   "outputs": [
    {
     "name": "stdout",
     "output_type": "stream",
     "text": [
      "1. “The world as we have created it is a process of our thinking. It cannot be changed without changing our thinking.” — Albert Einstein [change, deep-thoughts, thinking, world]\n",
      "2. “It is our choices, Harry, that show what we truly are, far more than our abilities.” — J.K. Rowling [abilities, choices]\n",
      "3. “There are only two ways to live your life. One is as though nothing is a miracle. The other is as though everything is a miracle.” — Albert Einstein [inspirational, life, live, miracle, miracles]\n",
      "4. “The person, be it gentleman or lady, who has not pleasure in a good novel, must be intolerably stupid.” — Jane Austen [aliteracy, books, classic, humor]\n",
      "5. “Imperfection is beauty, madness is genius and it's better to be absolutely ridiculous than absolutely boring.” — Marilyn Monroe [be-yourself, inspirational]\n"
     ]
    }
   ],
   "source": [
    "\n",
    "quotes = []\n",
    "authors = []\n",
    "tags = []\n",
    "\n",
    "quote_containers = soup.find_all(\"div\", class_=\"quote\")\n",
    "\n",
    "for q in quote_containers:\n",
    "    text = q.find(\"span\", class_=\"text\").get_text()\n",
    "    quotes.append(text)\n",
    "    \n",
    "    author = q.find(\"small\", class_=\"author\").get_text()\n",
    "    authors.append(author)\n",
    "    \n",
    "    tag_list = [tag.get_text() for tag in q.find_all(\"a\", class_=\"tag\")]\n",
    "    tags.append(\", \".join(tag_list))\n",
    "\n",
    "for i in range(5):\n",
    "    print(f\"{i+1}. {quotes[i]} — {authors[i]} [{tags[i]}]\")\n"
   ]
  },
  {
   "cell_type": "markdown",
   "id": "27a52602",
   "metadata": {},
   "source": [
    "## **Step 5: Store Data in DataFrame**"
   ]
  },
  {
   "cell_type": "code",
   "execution_count": 4,
   "id": "731ded8a",
   "metadata": {},
   "outputs": [
    {
     "data": {
      "text/html": [
       "<div>\n",
       "<style scoped>\n",
       "    .dataframe tbody tr th:only-of-type {\n",
       "        vertical-align: middle;\n",
       "    }\n",
       "\n",
       "    .dataframe tbody tr th {\n",
       "        vertical-align: top;\n",
       "    }\n",
       "\n",
       "    .dataframe thead th {\n",
       "        text-align: right;\n",
       "    }\n",
       "</style>\n",
       "<table border=\"1\" class=\"dataframe\">\n",
       "  <thead>\n",
       "    <tr style=\"text-align: right;\">\n",
       "      <th></th>\n",
       "      <th>Quote</th>\n",
       "      <th>Author</th>\n",
       "      <th>Tags</th>\n",
       "    </tr>\n",
       "  </thead>\n",
       "  <tbody>\n",
       "    <tr>\n",
       "      <th>0</th>\n",
       "      <td>“The world as we have created it is a process ...</td>\n",
       "      <td>Albert Einstein</td>\n",
       "      <td>change, deep-thoughts, thinking, world</td>\n",
       "    </tr>\n",
       "    <tr>\n",
       "      <th>1</th>\n",
       "      <td>“It is our choices, Harry, that show what we t...</td>\n",
       "      <td>J.K. Rowling</td>\n",
       "      <td>abilities, choices</td>\n",
       "    </tr>\n",
       "    <tr>\n",
       "      <th>2</th>\n",
       "      <td>“There are only two ways to live your life. On...</td>\n",
       "      <td>Albert Einstein</td>\n",
       "      <td>inspirational, life, live, miracle, miracles</td>\n",
       "    </tr>\n",
       "    <tr>\n",
       "      <th>3</th>\n",
       "      <td>“The person, be it gentleman or lady, who has ...</td>\n",
       "      <td>Jane Austen</td>\n",
       "      <td>aliteracy, books, classic, humor</td>\n",
       "    </tr>\n",
       "    <tr>\n",
       "      <th>4</th>\n",
       "      <td>“Imperfection is beauty, madness is genius and...</td>\n",
       "      <td>Marilyn Monroe</td>\n",
       "      <td>be-yourself, inspirational</td>\n",
       "    </tr>\n",
       "  </tbody>\n",
       "</table>\n",
       "</div>"
      ],
      "text/plain": [
       "                                               Quote           Author  \\\n",
       "0  “The world as we have created it is a process ...  Albert Einstein   \n",
       "1  “It is our choices, Harry, that show what we t...     J.K. Rowling   \n",
       "2  “There are only two ways to live your life. On...  Albert Einstein   \n",
       "3  “The person, be it gentleman or lady, who has ...      Jane Austen   \n",
       "4  “Imperfection is beauty, madness is genius and...   Marilyn Monroe   \n",
       "\n",
       "                                           Tags  \n",
       "0        change, deep-thoughts, thinking, world  \n",
       "1                            abilities, choices  \n",
       "2  inspirational, life, live, miracle, miracles  \n",
       "3              aliteracy, books, classic, humor  \n",
       "4                    be-yourself, inspirational  "
      ]
     },
     "execution_count": 4,
     "metadata": {},
     "output_type": "execute_result"
    }
   ],
   "source": [
    "\n",
    "df = pd.DataFrame({\n",
    "    \"Quote\": quotes,\n",
    "    \"Author\": authors,\n",
    "    \"Tags\": tags\n",
    "})\n",
    "\n",
    "df.head()\n"
   ]
  },
  {
   "cell_type": "markdown",
   "id": "d59b1c22",
   "metadata": {},
   "source": [
    "## **Step 6: Extend to Multiple Pages**"
   ]
  },
  {
   "cell_type": "code",
   "execution_count": 5,
   "id": "a4c44e9a",
   "metadata": {},
   "outputs": [
    {
     "data": {
      "text/html": [
       "<div>\n",
       "<style scoped>\n",
       "    .dataframe tbody tr th:only-of-type {\n",
       "        vertical-align: middle;\n",
       "    }\n",
       "\n",
       "    .dataframe tbody tr th {\n",
       "        vertical-align: top;\n",
       "    }\n",
       "\n",
       "    .dataframe thead th {\n",
       "        text-align: right;\n",
       "    }\n",
       "</style>\n",
       "<table border=\"1\" class=\"dataframe\">\n",
       "  <thead>\n",
       "    <tr style=\"text-align: right;\">\n",
       "      <th></th>\n",
       "      <th>Quote</th>\n",
       "      <th>Author</th>\n",
       "      <th>Tags</th>\n",
       "    </tr>\n",
       "  </thead>\n",
       "  <tbody>\n",
       "    <tr>\n",
       "      <th>0</th>\n",
       "      <td>“The world as we have created it is a process ...</td>\n",
       "      <td>Albert Einstein</td>\n",
       "      <td>change, deep-thoughts, thinking, world</td>\n",
       "    </tr>\n",
       "    <tr>\n",
       "      <th>1</th>\n",
       "      <td>“It is our choices, Harry, that show what we t...</td>\n",
       "      <td>J.K. Rowling</td>\n",
       "      <td>abilities, choices</td>\n",
       "    </tr>\n",
       "    <tr>\n",
       "      <th>2</th>\n",
       "      <td>“There are only two ways to live your life. On...</td>\n",
       "      <td>Albert Einstein</td>\n",
       "      <td>inspirational, life, live, miracle, miracles</td>\n",
       "    </tr>\n",
       "    <tr>\n",
       "      <th>3</th>\n",
       "      <td>“The person, be it gentleman or lady, who has ...</td>\n",
       "      <td>Jane Austen</td>\n",
       "      <td>aliteracy, books, classic, humor</td>\n",
       "    </tr>\n",
       "    <tr>\n",
       "      <th>4</th>\n",
       "      <td>“Imperfection is beauty, madness is genius and...</td>\n",
       "      <td>Marilyn Monroe</td>\n",
       "      <td>be-yourself, inspirational</td>\n",
       "    </tr>\n",
       "    <tr>\n",
       "      <th>5</th>\n",
       "      <td>“Try not to become a man of success. Rather be...</td>\n",
       "      <td>Albert Einstein</td>\n",
       "      <td>adulthood, success, value</td>\n",
       "    </tr>\n",
       "    <tr>\n",
       "      <th>6</th>\n",
       "      <td>“It is better to be hated for what you are tha...</td>\n",
       "      <td>André Gide</td>\n",
       "      <td>life, love</td>\n",
       "    </tr>\n",
       "    <tr>\n",
       "      <th>7</th>\n",
       "      <td>“I have not failed. I've just found 10,000 way...</td>\n",
       "      <td>Thomas A. Edison</td>\n",
       "      <td>edison, failure, inspirational, paraphrased</td>\n",
       "    </tr>\n",
       "    <tr>\n",
       "      <th>8</th>\n",
       "      <td>“A woman is like a tea bag; you never know how...</td>\n",
       "      <td>Eleanor Roosevelt</td>\n",
       "      <td>misattributed-eleanor-roosevelt</td>\n",
       "    </tr>\n",
       "    <tr>\n",
       "      <th>9</th>\n",
       "      <td>“A day without sunshine is like, you know, nig...</td>\n",
       "      <td>Steve Martin</td>\n",
       "      <td>humor, obvious, simile</td>\n",
       "    </tr>\n",
       "  </tbody>\n",
       "</table>\n",
       "</div>"
      ],
      "text/plain": [
       "                                               Quote             Author  \\\n",
       "0  “The world as we have created it is a process ...    Albert Einstein   \n",
       "1  “It is our choices, Harry, that show what we t...       J.K. Rowling   \n",
       "2  “There are only two ways to live your life. On...    Albert Einstein   \n",
       "3  “The person, be it gentleman or lady, who has ...        Jane Austen   \n",
       "4  “Imperfection is beauty, madness is genius and...     Marilyn Monroe   \n",
       "5  “Try not to become a man of success. Rather be...    Albert Einstein   \n",
       "6  “It is better to be hated for what you are tha...         André Gide   \n",
       "7  “I have not failed. I've just found 10,000 way...   Thomas A. Edison   \n",
       "8  “A woman is like a tea bag; you never know how...  Eleanor Roosevelt   \n",
       "9  “A day without sunshine is like, you know, nig...       Steve Martin   \n",
       "\n",
       "                                           Tags  \n",
       "0        change, deep-thoughts, thinking, world  \n",
       "1                            abilities, choices  \n",
       "2  inspirational, life, live, miracle, miracles  \n",
       "3              aliteracy, books, classic, humor  \n",
       "4                    be-yourself, inspirational  \n",
       "5                     adulthood, success, value  \n",
       "6                                    life, love  \n",
       "7   edison, failure, inspirational, paraphrased  \n",
       "8               misattributed-eleanor-roosevelt  \n",
       "9                        humor, obvious, simile  "
      ]
     },
     "execution_count": 5,
     "metadata": {},
     "output_type": "execute_result"
    }
   ],
   "source": [
    "\n",
    "all_quotes = []\n",
    "all_authors = []\n",
    "all_tags = []\n",
    "\n",
    "for page in range(1, 6):\n",
    "    url = f\"http://quotes.toscrape.com/page/{page}/\"\n",
    "    response = requests.get(url)\n",
    "    soup = BeautifulSoup(response.text, \"html.parser\")\n",
    "    \n",
    "    quote_containers = soup.find_all(\"div\", class_=\"quote\")\n",
    "    \n",
    "    for q in quote_containers:\n",
    "        all_quotes.append(q.find(\"span\", class_=\"text\").get_text())\n",
    "        all_authors.append(q.find(\"small\", class_=\"author\").get_text())\n",
    "        tag_list = [tag.get_text() for tag in q.find_all(\"a\", class_=\"tag\")]\n",
    "        all_tags.append(\", \".join(tag_list))\n",
    "\n",
    "df_full = pd.DataFrame({\n",
    "    \"Quote\": all_quotes,\n",
    "    \"Author\": all_authors,\n",
    "    \"Tags\": all_tags\n",
    "})\n",
    "\n",
    "df_full.head(10)\n"
   ]
  },
  {
   "cell_type": "markdown",
   "id": "916fc373",
   "metadata": {},
   "source": [
    "## **Step 7: Save Dataset**"
   ]
  },
  {
   "cell_type": "code",
   "execution_count": 6,
   "id": "570631fc",
   "metadata": {},
   "outputs": [
    {
     "name": "stdout",
     "output_type": "stream",
     "text": [
      "✅ Dataset saved as quotes_dataset.csv\n"
     ]
    }
   ],
   "source": [
    "\n",
    "df_full.to_csv(\"quotes_dataset.csv\", index=False)\n",
    "print(\"✅ Dataset saved as quotes_dataset.csv\")\n"
   ]
  }
 ],
 "metadata": {
  "kernelspec": {
   "display_name": "Python 3 (ipykernel)",
   "language": "python",
   "name": "python3"
  },
  "language_info": {
   "codemirror_mode": {
    "name": "ipython",
    "version": 3
   },
   "file_extension": ".py",
   "mimetype": "text/x-python",
   "name": "python",
   "nbconvert_exporter": "python",
   "pygments_lexer": "ipython3",
   "version": "3.13.5"
  }
 },
 "nbformat": 4,
 "nbformat_minor": 5
}
